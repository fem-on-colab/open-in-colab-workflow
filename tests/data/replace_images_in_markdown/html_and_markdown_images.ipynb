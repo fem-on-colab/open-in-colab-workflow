{
 "cells": [
  {
   "cell_type": "markdown",
   "id": "2d06f17a",
   "metadata": {},
   "source": [
    "This is the black image.\n",
    "<img src=\"images/black.png\" alt=\"Black\">\n",
    "This is the red image.\n",
    "![Red](images/red.jpg)"
   ]
  },
  {
   "cell_type": "markdown",
   "id": "d4143db8",
   "metadata": {},
   "source": [
    "This is the blue image.\n",
    "![Blue](images/blue.svg)"
   ]
  }
 ],
 "metadata": {
  "kernelspec": {
   "display_name": "Python 3 (ipykernel)",
   "language": "python",
   "name": "python3"
  },
  "language_info": {
   "codemirror_mode": {
    "name": "ipython"
   },
   "file_extension": ".py",
   "mimetype": "text/x-python",
   "name": "python",
   "nbconvert_exporter": "python"
  }
 },
 "nbformat": 4,
 "nbformat_minor": 5
}
