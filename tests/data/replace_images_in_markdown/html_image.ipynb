{
 "cells": [
  {
   "cell_type": "markdown",
   "id": "5119a918",
   "metadata": {},
   "source": [
    "This is the black image.\n",
    "<img src=\"images/black.png\" alt=\"Black\">"
   ]
  }
 ],
 "metadata": {
  "kernelspec": {
   "display_name": "Python 3 (ipykernel)",
   "language": "python",
   "name": "python3"
  },
  "language_info": {
   "codemirror_mode": {
    "name": "ipython"
   },
   "file_extension": ".py",
   "mimetype": "text/x-python",
   "name": "python",
   "nbconvert_exporter": "python"
  }
 },
 "nbformat": 4,
 "nbformat_minor": 5
}
