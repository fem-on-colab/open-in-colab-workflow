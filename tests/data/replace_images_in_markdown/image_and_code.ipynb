{
 "cells": [
  {
   "cell_type": "markdown",
   "id": "3279f625",
   "metadata": {},
   "source": [
    "This is the red image.\n",
    "![Red](images/red.jpg)"
   ]
  },
  {
   "cell_type": "code",
   "execution_count": null,
   "id": "2f20ed82",
   "metadata": {},
   "outputs": [],
   "source": [
    "import numpy as np  # noqa: F401"
   ]
  }
 ],
 "metadata": {
  "kernelspec": {
   "display_name": "Python 3 (ipykernel)",
   "language": "python",
   "name": "python3"
  },
  "language_info": {
   "codemirror_mode": {
    "name": "ipython"
   },
   "file_extension": ".py",
   "mimetype": "text/x-python",
   "name": "python",
   "nbconvert_exporter": "python"
  }
 },
 "nbformat": 4,
 "nbformat_minor": 5
}
