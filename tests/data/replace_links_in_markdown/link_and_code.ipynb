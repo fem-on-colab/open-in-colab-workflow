{
 "cells": [
  {
   "cell_type": "markdown",
   "id": "9b4fb961",
   "metadata": {},
   "source": [
    "[Link to the main notebook](main_notebook.ipynb)"
   ]
  },
  {
   "cell_type": "code",
   "execution_count": null,
   "id": "4556c7b6",
   "metadata": {},
   "outputs": [],
   "source": [
    "import numpy  # noqa: F401"
   ]
  }
 ],
 "metadata": {
  "kernelspec": {
   "display_name": "Python 3 (ipykernel)",
   "language": "python",
   "name": "python3"
  },
  "language_info": {
   "codemirror_mode": {
    "name": "ipython"
   },
   "file_extension": ".py",
   "mimetype": "text/x-python",
   "name": "python",
   "nbconvert_exporter": "python"
  }
 },
 "nbformat": 4,
 "nbformat_minor": 5
}
